{
 "cells": [
  {
   "cell_type": "markdown",
   "metadata": {},
   "source": [
    "For the practice exercise, you will write a small program that will accept a list of student names and grades, and allow you to view them and perform basic operations on them.\n",
    "\n",
    "REQUIREMENTS:\n",
    "1. Accept a list of 10 names from the user. Each name must be separated by a comma \n",
    "2. Similarly, accept a list of 10 grades (0 - 5). Each grade must be separated by a comma\n",
    "    2.1. Grades must be stored as integers after accepting them as inputs\n",
    "3. Store in a variable both the names and the grades together\n",
    "4. Display to the user the different options that they can choose from to interact with the program\n",
    "    4.1. First option is to view the student with the highest grade.\n",
    "    4.2. Second option is to view top three students with the highest grade\n",
    "    4.3. Third option is to view the students with the lowest grade\n",
    "    4.4. Fourth option is to get the total number of students that failed\n",
    "    4.5. Quit the program\n",
    "5. Use only the methods you have learned so far, including list methods and list comprehension. "
   ]
  },
  {
   "cell_type": "code",
   "execution_count": null,
   "metadata": {},
   "outputs": [],
   "source": []
  }
 ],
 "metadata": {
  "language_info": {
   "name": "python"
  }
 },
 "nbformat": 4,
 "nbformat_minor": 2
}
